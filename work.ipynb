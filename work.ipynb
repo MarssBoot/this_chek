{
 "cells": [
  {
   "cell_type": "code",
   "execution_count": 2,
   "metadata": {},
   "outputs": [],
   "source": [
    "# Программа ... (версия Х.Х)\n",
    "#\n",
    "# Основные режимы работы:\n",
    "#   1. Формирование документации:\n",
    "# Внесенные изменения:\n",
    "\n",
    "\n",
    "# Импорт библиотек и модулей\n",
    "import math                                             # Подключение библиотеки \"math\" (основная математика)\n",
    "from scipy.optimize import newton as newton             # Подключение функции для реализации метода Ньютона\n",
    "import matplotlib.pyplot as plot                        # Подключение функции построения графиков"
   ]
  },
  {
   "cell_type": "code",
   "execution_count": 3,
   "metadata": {},
   "outputs": [],
   "source": [
    "# Функции программы\n",
    "# * Функция для расчета функции №1\n",
    "def the_first_fcn(x):                                   # Создание первой функции (x-1)^2\n",
    "    return (x-1) ** 2"
   ]
  },
  {
   "cell_type": "code",
   "execution_count": 4,
   "metadata": {},
   "outputs": [],
   "source": [
    "# * Функция для расчета функции №2\n",
    "def the_second_fcn(x):                                  # Создание второй функции e^(2*x)-2*e^x+1\n",
    "    return math.exp(2*x)-2*math.exp(x)-1"
   ]
  },
  {
   "cell_type": "code",
   "execution_count": 5,
   "metadata": {},
   "outputs": [],
   "source": [
    "# * Функция расчета\n",
    "def measures_fcn(min_x, max_x, num_steps, x_real):\n",
    "    step = (max_x - min_x)/num_steps                    # Расчет величины шага (в зависимости от количества шагов)\n",
    "\n",
    "    x = [min_x + i * step for i in range(num_steps)]    # Значения \"x\" для расчета\n",
    "\n",
    "    res = newton(func=the_first_fcn,                    # Реализация метода Ньютона\n",
    "                 x0=x\n",
    "                 )\n",
    "\n",
    "    x_val = [res[i] for i in range(res.__len__())]                      # Извлечение значений \"x\" из объекта nd_array\n",
    "    del_x = [abs(x_val[i] - x_real) for i in range(x_val.__len__())]    # Расчет погешностей\n",
    "\n",
    "    graph = plot.plot(x, del_x)     # Построение графика погрешности\n",
    "    plot.show(graph)                # Отображение графика на экране\n",
    "\n",
    "    return\n",
    "\n"
   ]
  },
  {
   "cell_type": "code",
   "execution_count": 6,
   "metadata": {},
   "outputs": [],
   "source": [
    "# Функция запуска программы\n",
    "def main():\n",
    "    function_choose = int(input('Введите номер функции для расчета (1 или 2): '))\n",
    "\n",
    "    print('Введите границы участка определения функции:')\n",
    "    min_x = float(input('   - минимальное значение: '))\n",
    "    max_x = float(input('   - максимальное значение: '))\n",
    "    num_steps = int(input('Введите количество шагов для метода: '))\n",
    "    x_real = float(input('Введите значение корня выражения (для определения погрешностей): '))\n",
    "\n",
    "    # Выбор функции для поиска (1 - (x-1)^2, 2 - e^(2*x)+2*e^x-1)\n",
    "    if function_choose == 1:\n",
    "        measures_fcn(min_x, max_x, num_steps, x_real)\n",
    "    elif function_choose == 2:\n",
    "        measures_fcn(min_x, max_x, num_steps, x_real)\n",
    "    else:\n",
    "        print('Ошибка ввода данных! Для выхода нажмите \"Enter\"...')\n",
    "        input()\n",
    "        return\n",
    "\n"
   ]
  },
  {
   "cell_type": "code",
   "execution_count": 7,
   "metadata": {},
   "outputs": [
    {
     "name": "stdout",
     "output_type": "stream",
     "text": [
      "Введите номер функции для расчета (1 или 2): 1\n",
      "Введите границы участка определения функции:\n",
      "   - минимальное значение: -200\n",
      "   - максимальное значение: 200\n",
      "Введите количество шагов для метода: 10\n",
      "Введите значение корня выражения (для определения погрешностей): 5\n"
     ]
    },
    {
     "data": {
      "image/png": "[encoded data removed]",
      "text/plain": [
       "<Figure size 432x288 with 1 Axes>"
      ]
     },
     "metadata": {
      "needs_background": "light"
     },
     "output_type": "display_data"
    }
   ],
   "source": [
    "# Запуск потока приложения\n",
    "if __name__ == '__main__':\n",
    "    main()\n"
   ]
  },
  {
   "cell_type": "code",
   "execution_count": null,
   "metadata": {},
   "outputs": [],
   "source": []
  },
  {
   "cell_type": "code",
   "execution_count": null,
   "metadata": {},
   "outputs": [],
   "source": []
  }
 ],
 "metadata": {
  "kernelspec": {
   "display_name": "Python 3",
   "language": "python",
   "name": "python3"
  },
  "language_info": {
   "codemirror_mode": {
    "name": "ipython",
    "version": 3
   },
   "file_extension": ".py",
   "mimetype": "text/x-python",
   "name": "python",
   "nbconvert_exporter": "python",
   "pygments_lexer": "ipython3",
   "version": "3.7.6"
  }
 },
 "nbformat": 4,
 "nbformat_minor": 4
}
